{
 "cells": [
  {
   "cell_type": "code",
   "execution_count": null,
   "metadata": {},
   "outputs": [],
   "source": [
    "import numpy as np # linear algebra\n",
    "import pandas as pd # data processing, CSV file I/O (e.g. pd.read_csv)\n",
    "\n",
    "# Input data files are available in the read-only \"../input/\" directory\n",
    "# For example, running this (by clicking run or pressing Shift+Enter) will list all files under the input directory\n",
    "\n",
    "import os\n"
   ]
  },
  {
   "cell_type": "code",
   "execution_count": null,
   "metadata": {},
   "outputs": [],
   "source": [
    "f = open(\"busy_day.in\", \"r\")\n",
    "#f = open(\"/kaggle/input/hashcode-drone-delivery/busy_day.in\", \"r\")\n"
   ]
  },
  {
   "cell_type": "markdown",
   "metadata": {},
   "source": [
    "## Parameters for Drone "
   ]
  },
  {
   "cell_type": "code",
   "execution_count": null,
   "metadata": {},
   "outputs": [],
   "source": [
    "parameters = list(map(int,f.readline().split()))\n",
    "rows = parameters[0]\n",
    "cols = parameters[1]\n",
    "no_drones = parameters[2]\n",
    "turns = parameters[3]\n",
    "max_weight = parameters[4]"
   ]
  },
  {
   "cell_type": "code",
   "execution_count": null,
   "metadata": {},
   "outputs": [],
   "source": [
    "no_products = int(f.readline())\n",
    "#no_products"
   ]
  },
  {
   "cell_type": "code",
   "execution_count": null,
   "metadata": {},
   "outputs": [],
   "source": [
    "products = list(map(int,f.readline().split()))\n",
    "#products"
   ]
  },
  {
   "cell_type": "code",
   "execution_count": null,
   "metadata": {},
   "outputs": [],
   "source": [
    "no_warehouses = int(f.readline())\n",
    "ware_location = np.zeros(shape=(no_warehouses,2))\n",
    "ware_products = np.zeros(shape=(no_warehouses,no_products))\n",
    "for warehouse_index in range(no_warehouses):\n",
    "    \n",
    "    ware_location[warehouse_index] = list(map(int,f.readline().split()))\n",
    "    ware_products[warehouse_index] = list(map(int,f.readline().split()))\n",
    "    "
   ]
  },
  {
   "cell_type": "code",
   "execution_count": null,
   "metadata": {},
   "outputs": [],
   "source": [
    "no_orders = int(f.readline())\n",
    "order_location = np.zeros(shape=(no_orders,2))\n",
    "order_items = np.zeros(shape=(no_orders,1))\n",
    "order_type = np.zeros(shape=(no_orders,no_products))\n",
    "for order_index in range (no_orders):\n",
    "    order_location[order_index] = list(map(int,f.readline().split()))\n",
    "    order_items[order_index] = int(f.readline())\n",
    "    #TODO - load the order type\n",
    "    odr_type = f.readline()\n",
    "    #order_type[order_index] = list(map(int,f.readline().split()))\n"
   ]
  },
  {
   "cell_type": "code",
   "execution_count": null,
   "metadata": {},
   "outputs": [],
   "source": [
    "f.close()\n",
    "\n"
   ]
  },
  {
   "cell_type": "code",
   "execution_count": null,
   "metadata": {},
   "outputs": [],
   "source": [
    "command_type = ['L', 'D', 'W']"
   ]
  },
  {
   "cell_type": "code",
   "execution_count": null,
   "metadata": {},
   "outputs": [],
   "source": [
    "def command_str():\n",
    "    drone_id = 1\n",
    "    com_type = command_type[0]\n",
    "    location = 1\n",
    "    product = 1\n",
    "    no_items = 1\n",
    "    command = str(drone_id) + ' '+ com_type +' '+ str(location) + ' '+str(product) +' '+ str(no_items)\n",
    "    return command"
   ]
  },
  {
   "cell_type": "code",
   "execution_count": null,
   "metadata": {},
   "outputs": [],
   "source": [
    "f = open(\"submission.csv\", \"w\")\n",
    "\n",
    "f.write(command_str())\n",
    "\n",
    "f.close()\n",
    "\n"
   ]
  },
  {
   "cell_type": "code",
   "execution_count": null,
   "metadata": {},
   "outputs": [],
   "source": []
  }
 ],
 "metadata": {
  "kernelspec": {
   "display_name": "Python 3",
   "language": "python",
   "name": "python3"
  },
  "language_info": {
   "codemirror_mode": {
    "name": "ipython",
    "version": 3
   },
   "file_extension": ".py",
   "mimetype": "text/x-python",
   "name": "python",
   "nbconvert_exporter": "python",
   "pygments_lexer": "ipython3",
   "version": "3.7.6"
  }
 },
 "nbformat": 4,
 "nbformat_minor": 4
}
